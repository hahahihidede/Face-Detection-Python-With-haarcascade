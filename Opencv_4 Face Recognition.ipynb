{
 "cells": [
  {
   "cell_type": "code",
   "execution_count": 1,
   "metadata": {},
   "outputs": [],
   "source": [
    "#Jangan Lupa Kunjungi link dibawah ini untuk info dan pengetahuan yang mantap\n",
    "#https://tecorp.me\n",
    "#https://tecorp.me/sharing/"
   ]
  },
  {
   "cell_type": "code",
   "execution_count": 2,
   "metadata": {},
   "outputs": [],
   "source": [
    "#Face Recognition 1 : get and Train dataset\n",
    "#kita awali dengan bismillah\n",
    "#oke mantap\n",
    "#ayo mulai"
   ]
  },
  {
   "cell_type": "code",
   "execution_count": 3,
   "metadata": {},
   "outputs": [],
   "source": [
    "#import library nya dulu\n",
    "\n",
    "from IPython.display import clear_output\n",
    "import cv2\n",
    "import os\n",
    "from PIL import Image\n",
    "import numpy as np\n",
    "#fungsi librarynya cari sendiri lah di gugel, jangan males"
   ]
  },
  {
   "cell_type": "code",
   "execution_count": null,
   "metadata": {},
   "outputs": [
    {
     "name": "stdout",
     "output_type": "stream",
     "text": [
      "\n",
      " Masukan User Id nya :0\n",
      "\n",
      " Masukan nama :Dede\n",
      "Yuk Tunjukan Wajah Manismu\n"
     ]
    }
   ],
   "source": [
    "#bikin fungsi untuk ambil dan crop gambar wajah anda yg tamvan ruvawan itu\n",
    "def ambilGambar():\n",
    "    #atur kameranya supaya ganteng\n",
    "    cam = cv2.VideoCapture(0) #sama kek video sebelumnya, ditonton dulu biar pinter\n",
    "    cam.set(3, 640)\n",
    "    cam.set(4,480)\n",
    "    \n",
    "    faceDetector = cv2.CascadeClassifier('cascadeFace.xml')\n",
    "    faceId = input('\\n Masukan User Id nya :') #untuk input id setiap wajah yg akan direkam\n",
    "    nama = input('\\n Masukan nama :') #nah ini buat nama dari wajahnya nanti\n",
    "    with open('nama.txt', 'w') as f : #nah ini buat record nama yg barusan dimasukin, bikin dulu file nama.txt nya\n",
    "        f.write(''+nama+'')\n",
    "    print(\"Yuk Tunjukan Wajah Manismu\")\n",
    "    count = 0 #counter untuk face id dimulai dari 0 kek mau isi bensin\n",
    "    \n",
    "    while(True): #mulai looping nya biar gak sekali jepret terus loyo eh selesai\n",
    "        ret, img = cam.read()\n",
    "        gray = cv2.cvtColor(img, cv2.COLOR_BGR2GRAY) #sama kek video sebelumnya, makanya tonton dulu\n",
    "        faces = faceDetector.detectMultiScale(gray, 1.3 , 5)\n",
    "        \n",
    "        #bikin bounding box kek kemaren\n",
    "        \n",
    "        for (x,y,w,h) in faces:\n",
    "            cv2.rectangle(img, (x,y), (x+w,y+h), (255,0,0), 2)\n",
    "            count +=1\n",
    "            \n",
    "            #simpan gambar dari wajah yg di crop barusan\n",
    "            cv2.imwrite(\"dataset/user.\" + str(faceId) + '.' + str( ) + \".jpg\", gray[y:y+h, x:x+w])\n",
    "            cv2.imshow('Wajah Tamvan Anda', img) \n",
    "            #ganti lagu dulu bentar\n",
    "            #oke lanjut\n",
    "            k = cv2.waitKey(100) & 0xff #sama kek kemaren\n",
    "            if k == 27:\n",
    "                break\n",
    "            elif count >= 40 : #ini jumlah foto yg diambil dari setial id nya, disini saya set 40 aja biar gak lama\n",
    "                break\n",
    "                \n",
    "                \n",
    "                \n",
    "                \n",
    "                \n",
    "                \n",
    "                \n",
    "    print(\"Bersih Bersih Memori\")\n",
    "    cam.release\n",
    "    cv2.destroyAllWindows()\n",
    "ambilGambar()\n",
    "\n",
    "#mari kita coba"
   ]
  },
  {
   "cell_type": "code",
   "execution_count": 1,
   "metadata": {},
   "outputs": [],
   "source": [
    "#nah jadi gitu kalo udah kelar record dataset\n",
    "#kita lanjut ke proses trainingnya"
   ]
  },
  {
   "cell_type": "code",
   "execution_count": 1,
   "metadata": {},
   "outputs": [],
   "source": [
    "#ini kreatornya mager bikin soalnya gampang wqwqwq\n",
    "#cek di githubnya aja langsung"
   ]
  },
  {
   "cell_type": "code",
   "execution_count": 4,
   "metadata": {},
   "outputs": [
    {
     "name": "stdout",
     "output_type": "stream",
     "text": [
      "Sedang Di training nih datasetnya\n",
      "Dah kelar\n"
     ]
    }
   ],
   "source": [
    "def trainGambar():\n",
    "    path = 'dataset' #ini path ke folder dimana data foto tadi disave lur\n",
    "    recognizer = cv2.face.LBPHFaceRecognizer_create() #kita pake LPBH untuk recognizernya\n",
    "    detector = cv2.CascadeClassifier('cascadeFace.xml') #sama kek yg atas\n",
    "    \n",
    "    #kita mulai keluarin satu satu dan training gambar yg tadi\n",
    "    def getImageAndLabels(path):\n",
    "        imagePaths = [os.path.join(path,f) for f in os.listdir(path)]\n",
    "        faceSamples = []\n",
    "        ids = []\n",
    "        \n",
    "        for ImagePath in imagePaths:\n",
    "            PILImg = Image.open(ImagePath).convert('L')\n",
    "            imgNumpy = np.array(PILImg, 'uint8') #convert gambar ke array dengan numpy\n",
    "            id = int(os.path.split(ImagePath)[-1].split(\".\")[1]) #baca id gambar dari nama filenya\n",
    "            faces = detector.detectMultiScale(imgNumpy)\n",
    "            \n",
    "            for(x,y,w,h) in faces :\n",
    "                faceSamples.append(imgNumpy[y:y+h, x:x+w]) #gak yakin nih saya, kita lihat nanti saja lah\n",
    "                ids.append(id)\n",
    "        return faceSamples,ids\n",
    "    print(\"Sedang Di training nih datasetnya\")\n",
    "    faces,ids = getImageAndLabels(path)\n",
    "    recognizer.train(faces, np.array(ids))\n",
    "    \n",
    "    recognizer.write('trainer.yml') #hasil dari trainingnya dijadiin model dengan nama trainer.yml\n",
    "    \n",
    "    print(\"Dah kelar\")\n",
    "trainGambar()\n",
    "\n",
    "\n",
    "#mari kita coba"
   ]
  },
  {
   "cell_type": "code",
   "execution_count": 5,
   "metadata": {},
   "outputs": [],
   "source": [
    "#dah gitu doang trainingnya\n",
    "#gitu modelnya\n",
    "#selamat mencoba\n",
    "#silahkan diskusi di kolom komentar\n",
    "#kalo adminnya mood nanti dibalesin\n",
    "#dah ya abangnya capek, buat ngetes running model nya di video selanjutnya aja\n",
    "#dadah"
   ]
  },
  {
   "cell_type": "code",
   "execution_count": null,
   "metadata": {},
   "outputs": [],
   "source": []
  }
 ],
 "metadata": {
  "kernelspec": {
   "display_name": "Python 3",
   "language": "python",
   "name": "python3"
  },
  "language_info": {
   "codemirror_mode": {
    "name": "ipython",
    "version": 3
   },
   "file_extension": ".py",
   "mimetype": "text/x-python",
   "name": "python",
   "nbconvert_exporter": "python",
   "pygments_lexer": "ipython3",
   "version": "3.8.5"
  }
 },
 "nbformat": 4,
 "nbformat_minor": 4
}
