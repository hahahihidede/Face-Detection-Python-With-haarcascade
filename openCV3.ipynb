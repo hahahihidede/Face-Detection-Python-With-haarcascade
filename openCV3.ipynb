{
 "cells": [
  {
   "cell_type": "code",
   "execution_count": 1,
   "metadata": {},
   "outputs": [],
   "source": [
    "#face detection dengan opencv python, iya ini judulnya\n",
    "#iya ini buat video yutub\n",
    "#requirementsnya silahkan didownload di link di deskripsi. atau di link link lainnya \n",
    "#yuk awali dengan bismillah\n",
    "#uhuy"
   ]
  },
  {
   "cell_type": "code",
   "execution_count": 4,
   "metadata": {},
   "outputs": [],
   "source": [
    "#kita import dulu librarynya gaes\n",
    "import cv2 #ini library opencv nya\n",
    "from IPython.display import clear_output #ini supaya jupyter notebook bisa akses webcamnya\n",
    "##tar dulu abangnya mau ganti lagu\n",
    "#nah kita lanjut"
   ]
  },
  {
   "cell_type": "code",
   "execution_count": 5,
   "metadata": {},
   "outputs": [],
   "source": [
    "%matplotlib inline"
   ]
  },
  {
   "cell_type": "code",
   "execution_count": 6,
   "metadata": {},
   "outputs": [],
   "source": [
    "#kita load cascade classifier yg tadi di donlot\n",
    "#cascade classifier itu apa? cari di gugel ! jangan males dattebayo!!!\n",
    "faceCascade = cv2.CascadeClassifier('./cascadeFace.xml')"
   ]
  },
  {
   "cell_type": "code",
   "execution_count": 7,
   "metadata": {},
   "outputs": [],
   "source": [
    "#nah kita mulai loopnya\n",
    "#eh belum, kita akses dulu dong kameranya masa maen loop aja\n",
    "cap = cv2.VideoCapture(0) #0 ini index kamera di pc/laptop ya, kalo webcam external biasanya beda bukan 0\n"
   ]
  },
  {
   "cell_type": "code",
   "execution_count": 8,
   "metadata": {},
   "outputs": [],
   "source": [
    "#baru kita mulai loop\n",
    "while True:\n",
    "    #baca frame yg ditangkap oleh kamera\n",
    "    _,img = cap.read()\n",
    "    #kita conver gambarnya ke gray\n",
    "    #biar apa? biar gampang prosesnya dong bebeb\n",
    "    gray = cv2.cvtColor(img, cv2.COLOR_BGR2GRAY)\n",
    "    #maap abangnya minum dulu barusan\n",
    "    #kita mulai detect wajah yg ada di fram\n",
    "    faces = faceCascade.detectMultiScale(gray, 1.1 , 4)\n",
    "    for (x, y, w ,h) in faces :\n",
    "        #kita buat bounding box nya\n",
    "        cv2.rectangle(img, (x,y), (x+w, y+h), (255,0,0),2)\n",
    "        \n",
    "    #kita tampilkan deh yg udah kita proses diatas\n",
    "    cv2.imshow(\"Muka anda yg tampan dan rupawan itu\", img)\n",
    "    \n",
    "    #nah ini buat exit key biar gak looping terus, nanti pc anda kebakar kalo loop terus\n",
    "    k = cv2.waitKey(3) & 0xff\n",
    "    if k == 27 :\n",
    "        break\n",
    "cap.release()\n"
   ]
  },
  {
   "cell_type": "code",
   "execution_count": null,
   "metadata": {},
   "outputs": [],
   "source": [
    "#nah kira kira sekian video tutorial kali ini\n",
    "#kalo ada yg mau ditanyakan bisa komen dibawah atau \n",
    "#komen aja deh, mau kasih nomer hp ntar berisik wqwqwq\n",
    "#see ya"
   ]
  }
 ],
 "metadata": {
  "kernelspec": {
   "display_name": "Python 3",
   "language": "python",
   "name": "python3"
  },
  "language_info": {
   "codemirror_mode": {
    "name": "ipython",
    "version": 3
   },
   "file_extension": ".py",
   "mimetype": "text/x-python",
   "name": "python",
   "nbconvert_exporter": "python",
   "pygments_lexer": "ipython3",
   "version": "3.8.5"
  }
 },
 "nbformat": 4,
 "nbformat_minor": 4
}
